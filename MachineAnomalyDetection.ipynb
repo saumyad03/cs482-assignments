{
 "cells": [
  {
   "cell_type": "markdown",
   "metadata": {},
   "source": [
    "This was written after completing the assignment to explain the logic behind what I did. It is my interpretation of the assignment and its associated resources. We are expected to reconfigure the Wavenet neural net architectue to become a predictor rather than a generator. Therefore, we will sample the audio files and at intervals, predicting the immediate audio after that. After training the neural net on this data, we will use this neural network to make predictions in the testing dataset. If the difference between our prediction and the actual prediction differs by more than the error for our model, it will be considered an anomolous sound. Otherwise, it is not. "
   ]
  },
  {
   "cell_type": "markdown",
   "metadata": {
    "id": "HojatqAscRS4"
   },
   "source": [
    "# Task 1"
   ]
  },
  {
   "cell_type": "code",
   "execution_count": 2,
   "metadata": {
    "id": "sGhvgzGhcpho"
   },
   "outputs": [],
   "source": [
    "# importing libaries\n",
    "import tensorflow as tf\n",
    "import tarfile\n",
    "import gzip\n",
    "import shutil\n",
    "import librosa\n",
    "import numpy as np\n",
    "import os\n",
    "import matplotlib.pyplot as plt"
   ]
  },
  {
   "cell_type": "code",
   "execution_count": 2,
   "metadata": {
    "id": "gYXAZa7bcHhQ"
   },
   "outputs": [],
   "source": [
    "# The following code was copied from the textbook:\n",
    "# Hands-On Machine Learning with Scikit-Learn, Keras, and TensorFlow\n",
    "# I modified the head of the model to make it a predict\n",
    "# the amplitude of the audio signal that immediately follows\n",
    "# the 5 amplitudes that precede it (the input)\n",
    "wavenet_model = tf.keras.Sequential()\n",
    "wavenet_model.add(tf.keras.layers.Input(shape=[None, 5]))\n",
    "for rate in (1, 2, 4, 8) * 2:\n",
    "  wavenet_model.add(tf.keras.layers.Conv1D(\n",
    "  filters=32, kernel_size=2, padding=\"causal\", activation=\"relu\", dilation_rate=rate))\n",
    "wavenet_model.add(tf.keras.layers.Conv1D(filters=1, kernel_size=1))"
   ]
  },
  {
   "cell_type": "markdown",
   "metadata": {
    "id": "Z2pdA8lJXRGt"
   },
   "source": [
    "# Task 2"
   ]
  },
  {
   "cell_type": "markdown",
   "metadata": {
    "id": "NHUnZqAWXXXA"
   },
   "source": [
    "I downloaded train_normal.tar.gz, test_normal.tar.gz, and test_anomaly.tar.gz, placing them into my working directory. The following are useful functions for processing these files."
   ]
  },
  {
   "cell_type": "code",
   "execution_count": 3,
   "metadata": {
    "id": "4GRM61eSPJlc"
   },
   "outputs": [],
   "source": [
    "# extracts file, placing it into directory with same name\n",
    "# as file without the file extension\n",
    "def extract(file):\n",
    "  with gzip.open(file, 'rb') as inFile:\n",
    "      with tarfile.open(fileobj=inFile, mode='r') as tar:\n",
    "          tar.extractall(path=file.split('.')[0])"
   ]
  },
  {
   "cell_type": "code",
   "execution_count": 4,
   "metadata": {
    "id": "qHRLg1jpUYFE"
   },
   "outputs": [],
   "source": [
    "# recursively deletes a directory\n",
    "def delete(directory):\n",
    "  shutil.rmtree(directory)"
   ]
  },
  {
   "cell_type": "code",
   "execution_count": 5,
   "metadata": {
    "id": "mEAAkRRuXAus"
   },
   "outputs": [],
   "source": [
    "# returns list of path for all files\n",
    "# in a directory\n",
    "def paths(directory):\n",
    "  result = []\n",
    "  for fileName in os.listdir(directory):\n",
    "    result.append(directory + \"/\" + fileName)\n",
    "  return result"
   ]
  },
  {
   "cell_type": "markdown",
   "metadata": {
    "id": "ntHY3oGCa6FL"
   },
   "source": [
    "The following function generates our data from a given file. It will include the amplitude for 5 frames with the 6th frame being the output or label."
   ]
  },
  {
   "cell_type": "code",
   "execution_count": 16,
   "metadata": {
    "id": "z5eUPeMaY4jG"
   },
   "outputs": [],
   "source": [
    "# returns list of training data for\n",
    "# a file\n",
    "def generate(file_path):\n",
    "  audio_data, sample_rate = librosa.load(file_path, sr=None)\n",
    "  audio_data = librosa.util.normalize(audio_data)\n",
    "  audio_data = audio_data.flatten()\n",
    "  data = []\n",
    "  labels = []\n",
    "  for i in range(0, len(audio_data) - 3, 6):\n",
    "    data.append(audio_data[i:i+5])\n",
    "    labels.append(audio_data[i+5])\n",
    "  return (np.array(data), np.array(labels))"
   ]
  },
  {
   "cell_type": "code",
   "execution_count": 7,
   "metadata": {
    "id": "9XeEIX0zUV3o"
   },
   "outputs": [],
   "source": [
    "extract(\"train_normal.tar.gz\")\n",
    "extract(\"test_normal.tar.gz\")\n",
    "extract(\"test_anomaly.tar.gz\")"
   ]
  },
  {
   "cell_type": "code",
   "execution_count": 8,
   "metadata": {
    "id": "dre6fo75dlWc"
   },
   "outputs": [],
   "source": [
    "train_files = paths(\"train_normal\")\n",
    "test_files = paths(\"test_normal\")"
   ]
  },
  {
   "cell_type": "code",
   "execution_count": 10,
   "metadata": {},
   "outputs": [],
   "source": [
    "# quartering the amount of training data\n",
    "# due to limited RAM capabilities\n",
    "train_files = train_files[:len(train_files)//4]\n",
    "test_files = test_files[:len(test_files)//4]"
   ]
  },
  {
   "cell_type": "code",
   "execution_count": 113,
   "metadata": {
    "id": "6h8rVkWqdaPI"
   },
   "outputs": [],
   "source": [
    "# generates training data/labels\n",
    "x_train = []\n",
    "y_train = []\n",
    "for f in train_files:\n",
    "  res = generate(f)\n",
    "  x_train.append(res[0])\n",
    "  y_train.append(res[1])\n",
    "temp = []\n",
    "for x in x_train:\n",
    "    for y in x:\n",
    "        temp.append(y)\n",
    "x_train = np.array(temp)\n",
    "y_train = np.array(y_train).ravel()"
   ]
  },
  {
   "cell_type": "code",
   "execution_count": 114,
   "metadata": {
    "id": "pWcg9rF4gRoV"
   },
   "outputs": [],
   "source": [
    "# generates testing data/labels\n",
    "x_test = []\n",
    "y_test = []\n",
    "for f in test_files:\n",
    "  res = generate(f)\n",
    "  x_test.append(res[0])\n",
    "  y_test.append(res[1])\n",
    "temp = []\n",
    "for x in x_test:\n",
    "    for y in x:\n",
    "        temp.append(y)\n",
    "x_test = np.array(temp)\n",
    "y_test = np.array(y_test).ravel()"
   ]
  },
  {
   "cell_type": "markdown",
   "metadata": {
    "id": "nYuBJhSRfLxG"
   },
   "source": [
    "# Task 3"
   ]
  },
  {
   "cell_type": "markdown",
   "metadata": {},
   "source": [
    "Here I compiled the model and trained it using various different batch sizes that can be clearly be seen by the reassignment of the batch size variable prior to training."
   ]
  },
  {
   "cell_type": "code",
   "execution_count": 115,
   "metadata": {
    "id": "Hyc04Sz4frQ5"
   },
   "outputs": [],
   "source": [
    "wavenet_model.compile(optimizer='adam', loss='mse', metrics=['mae'])"
   ]
  },
  {
   "cell_type": "code",
   "execution_count": 116,
   "metadata": {},
   "outputs": [],
   "source": [
    "train_extra = len(x_train)%160\n",
    "test_extra = len(x_test)%160"
   ]
  },
  {
   "cell_type": "code",
   "execution_count": 118,
   "metadata": {},
   "outputs": [],
   "source": [
    "resized_x_train = x_train[:-train_extra]\n",
    "resized_y_train = y_train[:-train_extra]\n",
    "resized_x_test = x_test[:-test_extra]\n",
    "resized_y_test = y_test[:-test_extra]"
   ]
  },
  {
   "cell_type": "code",
   "execution_count": 121,
   "metadata": {},
   "outputs": [],
   "source": [
    "batch_size = 32\n",
    "resized_x_train = np.reshape(resized_x_train, (-1, batch_size, 5))\n",
    "resized_x_test = np.reshape(resized_x_test, (-1, batch_size, 5))\n",
    "resized_y_train = np.reshape(resized_y_train, (-1, batch_size, 1))\n",
    "resized_y_test = np.reshape(resized_y_test, (-1, batch_size, 1))"
   ]
  },
  {
   "cell_type": "code",
   "execution_count": 124,
   "metadata": {
    "id": "UL7GP2dzhPOF"
   },
   "outputs": [
    {
     "name": "stdout",
     "output_type": "stream",
     "text": [
      "Epoch 1/10\n",
      "3581/3581 [==============================] - 226s 63ms/step - loss: 0.0020 - mae: 0.0312 - val_loss: 0.0020 - val_mae: 0.0312\n",
      "Epoch 2/10\n",
      "3581/3581 [==============================] - 216s 60ms/step - loss: 0.0019 - mae: 0.0311 - val_loss: 0.0019 - val_mae: 0.0311\n",
      "Epoch 3/10\n",
      "3581/3581 [==============================] - 217s 61ms/step - loss: 0.0019 - mae: 0.0310 - val_loss: 0.0019 - val_mae: 0.0310\n",
      "Epoch 4/10\n",
      "3581/3581 [==============================] - 215s 60ms/step - loss: 0.0019 - mae: 0.0309 - val_loss: 0.0019 - val_mae: 0.0307\n",
      "Epoch 5/10\n",
      "3581/3581 [==============================] - 216s 60ms/step - loss: 0.0019 - mae: 0.0308 - val_loss: 0.0019 - val_mae: 0.0308\n",
      "Epoch 6/10\n",
      "3581/3581 [==============================] - 214s 60ms/step - loss: 0.0019 - mae: 0.0307 - val_loss: 0.0019 - val_mae: 0.0309\n",
      "Epoch 7/10\n",
      "3581/3581 [==============================] - 212s 59ms/step - loss: 0.0019 - mae: 0.0306 - val_loss: 0.0019 - val_mae: 0.0307\n",
      "Epoch 8/10\n",
      "3581/3581 [==============================] - 211s 59ms/step - loss: 0.0019 - mae: 0.0306 - val_loss: 0.0019 - val_mae: 0.0306\n",
      "Epoch 9/10\n",
      "3581/3581 [==============================] - 211s 59ms/step - loss: 0.0019 - mae: 0.0305 - val_loss: 0.0019 - val_mae: 0.0306\n",
      "Epoch 10/10\n",
      "3581/3581 [==============================] - 210s 59ms/step - loss: 0.0019 - mae: 0.0305 - val_loss: 0.0019 - val_mae: 0.0307\n"
     ]
    },
    {
     "data": {
      "text/plain": [
       "<keras.src.callbacks.History at 0x18b743356f0>"
      ]
     },
     "execution_count": 124,
     "metadata": {},
     "output_type": "execute_result"
    }
   ],
   "source": [
    "wavenet_model.fit(resized_x_train, resized_y_train, batch_size=batch_size, epochs=10, validation_data=(resized_x_test, resized_y_test), verbose=1)"
   ]
  },
  {
   "cell_type": "code",
   "execution_count": 129,
   "metadata": {},
   "outputs": [
    {
     "data": {
      "text/plain": [
       "Text(0.5, 1.0, 'Epochs vs. Loss For Batch Size 32')"
      ]
     },
     "execution_count": 129,
     "metadata": {},
     "output_type": "execute_result"
    },
    {
     "data": {
      "image/png": "[encoded data removed]",
      "text/plain": [
       "<Figure size 640x480 with 1 Axes>"
      ]
     },
     "metadata": {},
     "output_type": "display_data"
    }
   ],
   "source": [
    "# numbers are from the training shown above\n",
    "epochs = list(range(1,11))\n",
    "losses = [0.0020, 0.0019, 0.0019, 0.0019, 0.0019, 0.0019, 0.0019, 0.0019, 0.0019, 0.0019]\n",
    "plt.plot(epochs, losses)\n",
    "plt.title(\"Epochs vs. Loss For Batch Size 32\")"
   ]
  },
  {
   "cell_type": "code",
   "execution_count": 130,
   "metadata": {},
   "outputs": [],
   "source": [
    "batch_size = 64\n",
    "resized_x_train = np.reshape(resized_x_train, (-1, batch_size, 5))\n",
    "resized_x_test = np.reshape(resized_x_test, (-1, batch_size, 5))\n",
    "resized_y_train = np.reshape(resized_y_train, (-1, batch_size, 1))\n",
    "resized_y_test = np.reshape(resized_y_test, (-1, batch_size, 1))"
   ]
  },
  {
   "cell_type": "code",
   "execution_count": 131,
   "metadata": {},
   "outputs": [
    {
     "name": "stdout",
     "output_type": "stream",
     "text": [
      "Epoch 1/10\n",
      "896/896 [==============================] - 168s 186ms/step - loss: 0.0018 - mae: 0.0301 - val_loss: 0.0019 - val_mae: 0.0303\n",
      "Epoch 2/10\n",
      "896/896 [==============================] - 154s 172ms/step - loss: 0.0018 - mae: 0.0301 - val_loss: 0.0019 - val_mae: 0.0304\n",
      "Epoch 3/10\n",
      "896/896 [==============================] - 154s 172ms/step - loss: 0.0018 - mae: 0.0301 - val_loss: 0.0018 - val_mae: 0.0302\n",
      "Epoch 4/10\n",
      "896/896 [==============================] - 154s 172ms/step - loss: 0.0018 - mae: 0.0301 - val_loss: 0.0018 - val_mae: 0.0303\n",
      "Epoch 5/10\n",
      "896/896 [==============================] - 154s 172ms/step - loss: 0.0018 - mae: 0.0300 - val_loss: 0.0018 - val_mae: 0.0302\n",
      "Epoch 6/10\n",
      "896/896 [==============================] - 153s 171ms/step - loss: 0.0018 - mae: 0.0300 - val_loss: 0.0019 - val_mae: 0.0305\n",
      "Epoch 7/10\n",
      "896/896 [==============================] - 152s 170ms/step - loss: 0.0018 - mae: 0.0300 - val_loss: 0.0018 - val_mae: 0.0302\n",
      "Epoch 8/10\n",
      "896/896 [==============================] - 153s 171ms/step - loss: 0.0018 - mae: 0.0300 - val_loss: 0.0018 - val_mae: 0.0303\n",
      "Epoch 9/10\n",
      "896/896 [==============================] - 154s 172ms/step - loss: 0.0018 - mae: 0.0300 - val_loss: 0.0019 - val_mae: 0.0303\n",
      "Epoch 10/10\n",
      "896/896 [==============================] - 152s 170ms/step - loss: 0.0018 - mae: 0.0300 - val_loss: 0.0019 - val_mae: 0.0305\n"
     ]
    },
    {
     "data": {
      "text/plain": [
       "<keras.src.callbacks.History at 0x18ab3d9fdc0>"
      ]
     },
     "execution_count": 131,
     "metadata": {},
     "output_type": "execute_result"
    }
   ],
   "source": [
    "wavenet_model.fit(resized_x_train, resized_y_train, batch_size=batch_size, epochs=10, validation_data=(resized_x_test, resized_y_test), verbose=1)"
   ]
  },
  {
   "cell_type": "code",
   "execution_count": 3,
   "metadata": {},
   "outputs": [
    {
     "data": {
      "text/plain": [
       "Text(0.5, 1.0, 'Epochs vs. Loss For Batch Size 64')"
      ]
     },
     "execution_count": 3,
     "metadata": {},
     "output_type": "execute_result"
    },
    {
     "data": {
      "image/png": "[encoded data removed]",
      "text/plain": [
       "<Figure size 640x480 with 1 Axes>"
      ]
     },
     "metadata": {},
     "output_type": "display_data"
    }
   ],
   "source": [
    "# numbers are from the training shown above\n",
    "epochs = list(range(1,11))\n",
    "losses = [0.0018, 0.0018, 0.0018, 0.0018, 0.0018, 0.0018, 0.0018, 0.0018, 0.0018, 0.0018]\n",
    "plt.plot(epochs, losses)\n",
    "plt.title(\"Epochs vs. Loss For Batch Size 64\")"
   ]
  },
  {
   "cell_type": "code",
   "execution_count": 136,
   "metadata": {},
   "outputs": [
    {
     "name": "stdout",
     "output_type": "stream",
     "text": [
      "7878/7878 [==============================] - 89s 11ms/step\n"
     ]
    }
   ],
   "source": [
    "# Now, I will calculate the F1 score by using the model\n",
    "# to make predictions on the testing dataset\n",
    "predictions = wavenet_model.predict(resized_x_test)"
   ]
  },
  {
   "cell_type": "code",
   "execution_count": 142,
   "metadata": {},
   "outputs": [],
   "source": [
    "# calculating mean squared error for\n",
    "# each prediction\n",
    "mses = []\n",
    "for i in range(len(predictions)):\n",
    "    total = 0\n",
    "    for j in range(len(predictions[i])):\n",
    "        total = (resized_y_test[i][j] - predictions[i][j])\n",
    "    mses.append(total/batch_size)"
   ]
  },
  {
   "cell_type": "code",
   "execution_count": 232,
   "metadata": {},
   "outputs": [],
   "source": [
    "# if mse is greater than loss of model,\n",
    "# audio classified as anomolous\n",
    "false_positives = 0\n",
    "for mse in mses:\n",
    "    if mse > 0.0018:\n",
    "        false_positives += 1"
   ]
  },
  {
   "cell_type": "code",
   "execution_count": 233,
   "metadata": {},
   "outputs": [],
   "source": [
    "true_negatives = len(mses) - false_positives"
   ]
  },
  {
   "cell_type": "code",
   "execution_count": 219,
   "metadata": {},
   "outputs": [],
   "source": [
    "# calculating mean squared error for each prediction\n",
    "# on anomolous test data\n",
    "# this involves repeating steps I've done previously\n",
    "# on the normal training and testing data\n",
    "# (see above)\n",
    "a_test_files = paths(\"test_anomaly\")\n",
    "a_test_files = test_files[:len(a_test_files)//4]\n",
    "a_x_test = []\n",
    "a_y_test = []\n",
    "for f in a_test_files:\n",
    "  res = generate(f)\n",
    "  a_x_test.append(res[0])\n",
    "  a_y_test.append(res[1])"
   ]
  },
  {
   "cell_type": "code",
   "execution_count": 220,
   "metadata": {},
   "outputs": [],
   "source": [
    "temp = []\n",
    "for x in a_x_test:\n",
    "    for y in x:\n",
    "        temp.append(y)\n",
    "a_x_test = np.array(temp)\n",
    "a_y_test = np.array(a_y_test).ravel()"
   ]
  },
  {
   "cell_type": "code",
   "execution_count": 224,
   "metadata": {},
   "outputs": [],
   "source": [
    "a_test_extra = len(a_x_test)%320\n",
    "resized_a_x_test = a_x_test[:-a_test_extra]\n",
    "resized_a_y_test = a_y_test[:-a_test_extra]"
   ]
  },
  {
   "cell_type": "code",
   "execution_count": 225,
   "metadata": {},
   "outputs": [],
   "source": [
    "resized_a_x_test = np.reshape(resized_a_x_test, (-1, batch_size, 5))\n",
    "resized_a_y_test = np.reshape(resized_a_y_test, (-1, batch_size, 1))"
   ]
  },
  {
   "cell_type": "code",
   "execution_count": 226,
   "metadata": {},
   "outputs": [
    {
     "name": "stdout",
     "output_type": "stream",
     "text": [
      "3782/3782 [==============================] - 76s 20ms/step\n"
     ]
    }
   ],
   "source": [
    "a_predictions = wavenet_model.predict(resized_a_x_test)"
   ]
  },
  {
   "cell_type": "code",
   "execution_count": 227,
   "metadata": {},
   "outputs": [],
   "source": [
    "a_mses = []\n",
    "for i in range(len(a_predictions)):\n",
    "    total = 0\n",
    "    for j in range(len(a_predictions[i])):\n",
    "        total = (resized_a_y_test[i][j] - a_predictions[i][j])\n",
    "    a_mses.append(total/batch_size)"
   ]
  },
  {
   "cell_type": "code",
   "execution_count": 234,
   "metadata": {},
   "outputs": [],
   "source": [
    "# if mse is greater than loss of model,\n",
    "# audio classified as anomolous\n",
    "true_positives = 0\n",
    "for mse in mses:\n",
    "    if mse > 0.0018:\n",
    "        true_positives += 1"
   ]
  },
  {
   "cell_type": "code",
   "execution_count": 235,
   "metadata": {},
   "outputs": [],
   "source": [
    "false_negatives = len(a_mses) - true_positives"
   ]
  },
  {
   "cell_type": "code",
   "execution_count": 237,
   "metadata": {},
   "outputs": [],
   "source": [
    "f1 = true_positives / (true_positives + 0.5 * (false_positives + false_negatives))"
   ]
  },
  {
   "cell_type": "code",
   "execution_count": 240,
   "metadata": {},
   "outputs": [
    {
     "name": "stdout",
     "output_type": "stream",
     "text": [
      "F1 Score: 0.03644153506781024\n"
     ]
    }
   ],
   "source": [
    "print(\"F1 Score: \" + str(f1))"
   ]
  }
 ],
 "metadata": {
  "colab": {
   "provenance": []
  },
  "kernelspec": {
   "display_name": "Python 3 (ipykernel)",
   "language": "python",
   "name": "python3"
  },
  "language_info": {
   "codemirror_mode": {
    "name": "ipython",
    "version": 3
   },
   "file_extension": ".py",
   "mimetype": "text/x-python",
   "name": "python",
   "nbconvert_exporter": "python",
   "pygments_lexer": "ipython3",
   "version": "3.10.0"
  }
 },
 "nbformat": 4,
 "nbformat_minor": 1
}
